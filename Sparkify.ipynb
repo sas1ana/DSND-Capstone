{
 "cells": [
  {
   "cell_type": "markdown",
   "metadata": {},
   "source": [
    "# Sparkify Project Workspace\n",
    "This workspace contains a tiny subset (128MB) of the full dataset available (12GB). Feel free to use this workspace to build your project, or to explore a smaller subset with Spark before deploying your cluster on the cloud. Instructions for setting up your Spark cluster is included in the last lesson of the Extracurricular Spark Course content.\n",
    "\n",
    "You can follow the steps below to guide your data analysis and model building portion of this project."
   ]
  },
  {
   "cell_type": "code",
   "execution_count": 1,
   "metadata": {},
   "outputs": [],
   "source": [
    "# import libraries\n",
    "from pyspark.sql import SparkSession, Window\n",
    "from pyspark.sql.types import IntegerType\n",
    "from pyspark.sql import functions as f\n",
    "from pyspark.ml.classification import LogisticRegression, RandomForestClassifier, GBTClassifier\n",
    "from pyspark.ml.tuning import CrossValidator, ParamGridBuilder\n",
    "from pyspark.ml.feature import MinMaxScaler ,VectorAssembler,StandardScaler\n",
    "from pyspark.ml.evaluation import MulticlassClassificationEvaluator\n",
    "from pyspark.ml import Pipeline\n",
    "from pyspark import PickleSerializer\n",
    "import matplotlib.pyplot as plt\n",
    "import seaborn as sns\n",
    "import pandas as pd\n",
    "\n",
    "%matplotlib inline"
   ]
  },
  {
   "cell_type": "code",
   "execution_count": 2,
   "metadata": {},
   "outputs": [],
   "source": [
    "# create a Spark session\n",
    "spark = SparkSession \\\n",
    "    .builder \\\n",
    "    .appName(\"Sparkify\") \\\n",
    "    .getOrCreate()"
   ]
  },
  {
   "cell_type": "code",
   "execution_count": 3,
   "metadata": {},
   "outputs": [
    {
     "data": {
      "text/html": [
       "\n",
       "            <div>\n",
       "                <p><b>SparkSession - in-memory</b></p>\n",
       "                \n",
       "        <div>\n",
       "            <p><b>SparkContext</b></p>\n",
       "\n",
       "            <p><a href=\"http://f799b31b50e1:4040\">Spark UI</a></p>\n",
       "\n",
       "            <dl>\n",
       "              <dt>Version</dt>\n",
       "                <dd><code>v2.4.3</code></dd>\n",
       "              <dt>Master</dt>\n",
       "                <dd><code>local[*]</code></dd>\n",
       "              <dt>AppName</dt>\n",
       "                <dd><code>Sparkify</code></dd>\n",
       "            </dl>\n",
       "        </div>\n",
       "        \n",
       "            </div>\n",
       "        "
      ],
      "text/plain": [
       "<pyspark.sql.session.SparkSession at 0x7faa273fc2e8>"
      ]
     },
     "execution_count": 3,
     "metadata": {},
     "output_type": "execute_result"
    }
   ],
   "source": [
    "spark"
   ]
  },
  {
   "cell_type": "markdown",
   "metadata": {},
   "source": [
    "# Load and Clean Dataset\n",
    "In this workspace, the mini-dataset file is `mini_sparkify_event_data.json`. Load and clean the dataset, checking for invalid or missing data - for example, records without userids or sessionids. "
   ]
  },
  {
   "cell_type": "code",
   "execution_count": 4,
   "metadata": {},
   "outputs": [],
   "source": [
    "df = spark.read.json(\"mini_sparkify_event_data.json\")"
   ]
  },
  {
   "cell_type": "code",
   "execution_count": 5,
   "metadata": {},
   "outputs": [
    {
     "name": "stdout",
     "output_type": "stream",
     "text": [
      "+----------------+---------+---------+------+-------------+--------+---------+-----+--------------------+------+--------+-------------+---------+--------------------+------+-------------+--------------------+------+\n",
      "|          artist|     auth|firstName|gender|itemInSession|lastName|   length|level|            location|method|    page| registration|sessionId|                song|status|           ts|           userAgent|userId|\n",
      "+----------------+---------+---------+------+-------------+--------+---------+-----+--------------------+------+--------+-------------+---------+--------------------+------+-------------+--------------------+------+\n",
      "|  Martha Tilston|Logged In|    Colin|     M|           50| Freeman|277.89016| paid|     Bakersfield, CA|   PUT|NextSong|1538173362000|       29|           Rockpools|   200|1538352117000|Mozilla/5.0 (Wind...|    30|\n",
      "|Five Iron Frenzy|Logged In|    Micah|     M|           79|    Long|236.09424| free|Boston-Cambridge-...|   PUT|NextSong|1538331630000|        8|              Canada|   200|1538352180000|\"Mozilla/5.0 (Win...|     9|\n",
      "|    Adam Lambert|Logged In|    Colin|     M|           51| Freeman| 282.8273| paid|     Bakersfield, CA|   PUT|NextSong|1538173362000|       29|   Time For Miracles|   200|1538352394000|Mozilla/5.0 (Wind...|    30|\n",
      "|          Enigma|Logged In|    Micah|     M|           80|    Long|262.71302| free|Boston-Cambridge-...|   PUT|NextSong|1538331630000|        8|Knocking On Forbi...|   200|1538352416000|\"Mozilla/5.0 (Win...|     9|\n",
      "|       Daft Punk|Logged In|    Colin|     M|           52| Freeman|223.60771| paid|     Bakersfield, CA|   PUT|NextSong|1538173362000|       29|Harder Better Fas...|   200|1538352676000|Mozilla/5.0 (Wind...|    30|\n",
      "+----------------+---------+---------+------+-------------+--------+---------+-----+--------------------+------+--------+-------------+---------+--------------------+------+-------------+--------------------+------+\n",
      "only showing top 5 rows\n",
      "\n"
     ]
    }
   ],
   "source": [
    "# Sample top 5 records\n",
    "df.show(5)"
   ]
  },
  {
   "cell_type": "code",
   "execution_count": 6,
   "metadata": {},
   "outputs": [
    {
     "name": "stdout",
     "output_type": "stream",
     "text": [
      "286500 18\n"
     ]
    }
   ],
   "source": [
    "# Number of rows and columns\n",
    "print(df.count(), len(df.columns))  "
   ]
  },
  {
   "cell_type": "code",
   "execution_count": 7,
   "metadata": {},
   "outputs": [
    {
     "data": {
      "text/plain": [
       "DataFrame[summary: string, artist: string, auth: string, firstName: string, gender: string, itemInSession: string, lastName: string, length: string, level: string, location: string, method: string, page: string, registration: string, sessionId: string, song: string, status: string, ts: string, userAgent: string, userId: string]"
      ]
     },
     "execution_count": 7,
     "metadata": {},
     "output_type": "execute_result"
    }
   ],
   "source": [
    "df.describe()"
   ]
  },
  {
   "cell_type": "code",
   "execution_count": 8,
   "metadata": {},
   "outputs": [
    {
     "name": "stdout",
     "output_type": "stream",
     "text": [
      "root\n",
      " |-- artist: string (nullable = true)\n",
      " |-- auth: string (nullable = true)\n",
      " |-- firstName: string (nullable = true)\n",
      " |-- gender: string (nullable = true)\n",
      " |-- itemInSession: long (nullable = true)\n",
      " |-- lastName: string (nullable = true)\n",
      " |-- length: double (nullable = true)\n",
      " |-- level: string (nullable = true)\n",
      " |-- location: string (nullable = true)\n",
      " |-- method: string (nullable = true)\n",
      " |-- page: string (nullable = true)\n",
      " |-- registration: long (nullable = true)\n",
      " |-- sessionId: long (nullable = true)\n",
      " |-- song: string (nullable = true)\n",
      " |-- status: long (nullable = true)\n",
      " |-- ts: long (nullable = true)\n",
      " |-- userAgent: string (nullable = true)\n",
      " |-- userId: string (nullable = true)\n",
      "\n"
     ]
    }
   ],
   "source": [
    "df.printSchema()"
   ]
  },
  {
   "cell_type": "code",
   "execution_count": 9,
   "metadata": {},
   "outputs": [
    {
     "name": "stdout",
     "output_type": "stream",
     "text": [
      "+-------------------------+\n",
      "|page                     |\n",
      "+-------------------------+\n",
      "|About                    |\n",
      "|Add Friend               |\n",
      "|Add to Playlist          |\n",
      "|Cancel                   |\n",
      "|Cancellation Confirmation|\n",
      "|Downgrade                |\n",
      "|Error                    |\n",
      "|Help                     |\n",
      "|Home                     |\n",
      "|Login                    |\n",
      "|Logout                   |\n",
      "|NextSong                 |\n",
      "|Register                 |\n",
      "|Roll Advert              |\n",
      "|Save Settings            |\n",
      "|Settings                 |\n",
      "|Submit Downgrade         |\n",
      "|Submit Registration      |\n",
      "|Submit Upgrade           |\n",
      "|Thumbs Down              |\n",
      "|Thumbs Up                |\n",
      "|Upgrade                  |\n",
      "+-------------------------+\n",
      "\n"
     ]
    }
   ],
   "source": [
    "df.select(\"page\").dropDuplicates().sort(\"page\").show(df.select(\"page\").count(),False)"
   ]
  },
  {
   "cell_type": "code",
   "execution_count": 10,
   "metadata": {},
   "outputs": [
    {
     "name": "stdout",
     "output_type": "stream",
     "text": [
      "+--------------------+-----+\n",
      "|                page|count|\n",
      "+--------------------+-----+\n",
      "| Submit Registration|    5|\n",
      "|            Register|   18|\n",
      "|              Cancel|   52|\n",
      "|Cancellation Conf...|   52|\n",
      "|    Submit Downgrade|   63|\n",
      "|      Submit Upgrade|  159|\n",
      "|               Error|  258|\n",
      "|       Save Settings|  310|\n",
      "|             Upgrade|  499|\n",
      "|               About|  924|\n",
      "|            Settings| 1514|\n",
      "|                Help| 1726|\n",
      "|           Downgrade| 2055|\n",
      "|         Thumbs Down| 2546|\n",
      "|              Logout| 3226|\n",
      "|               Login| 3241|\n",
      "|         Roll Advert| 3933|\n",
      "|          Add Friend| 4277|\n",
      "|     Add to Playlist| 6526|\n",
      "|           Thumbs Up|12551|\n",
      "+--------------------+-----+\n",
      "only showing top 20 rows\n",
      "\n"
     ]
    }
   ],
   "source": [
    "df.groupBy('page').count().orderBy('count').show()"
   ]
  },
  {
   "cell_type": "code",
   "execution_count": 11,
   "metadata": {},
   "outputs": [
    {
     "name": "stdout",
     "output_type": "stream",
     "text": [
      "+----------+\n",
      "|      auth|\n",
      "+----------+\n",
      "| Cancelled|\n",
      "|     Guest|\n",
      "| Logged In|\n",
      "|Logged Out|\n",
      "+----------+\n",
      "\n",
      "+------+\n",
      "|gender|\n",
      "+------+\n",
      "|  null|\n",
      "|     F|\n",
      "|     M|\n",
      "+------+\n",
      "\n",
      "+-----+\n",
      "|level|\n",
      "+-----+\n",
      "| free|\n",
      "| paid|\n",
      "+-----+\n",
      "\n"
     ]
    }
   ],
   "source": [
    "df.select(\"auth\").dropDuplicates().sort(\"auth\").show()\n",
    "df.select(\"gender\").dropDuplicates().sort(\"gender\").show()\n",
    "df.select(\"level\").dropDuplicates().sort(\"level\").show()"
   ]
  },
  {
   "cell_type": "code",
   "execution_count": 12,
   "metadata": {},
   "outputs": [
    {
     "name": "stdout",
     "output_type": "stream",
     "text": [
      "+------+----------+---------+------+-------------+--------+------+-----+--------+------+-----+------------+---------+----+------+-------------+---------+------+\n",
      "|artist|      auth|firstName|gender|itemInSession|lastName|length|level|location|method| page|registration|sessionId|song|status|           ts|userAgent|userId|\n",
      "+------+----------+---------+------+-------------+--------+------+-----+--------+------+-----+------------+---------+----+------+-------------+---------+------+\n",
      "|  null|Logged Out|     null|  null|          100|    null|  null| free|    null|   GET| Home|        null|        8|null|   200|1538355745000|     null|      |\n",
      "|  null|Logged Out|     null|  null|          101|    null|  null| free|    null|   GET| Help|        null|        8|null|   200|1538355807000|     null|      |\n",
      "|  null|Logged Out|     null|  null|          102|    null|  null| free|    null|   GET| Home|        null|        8|null|   200|1538355841000|     null|      |\n",
      "|  null|Logged Out|     null|  null|          103|    null|  null| free|    null|   PUT|Login|        null|        8|null|   307|1538355842000|     null|      |\n",
      "|  null|Logged Out|     null|  null|            2|    null|  null| free|    null|   GET| Home|        null|      240|null|   200|1538356678000|     null|      |\n",
      "+------+----------+---------+------+-------------+--------+------+-----+--------+------+-----+------------+---------+----+------+-------------+---------+------+\n",
      "only showing top 5 rows\n",
      "\n",
      "+-------------------+\n",
      "|               page|\n",
      "+-------------------+\n",
      "|               Home|\n",
      "|              About|\n",
      "|Submit Registration|\n",
      "|              Login|\n",
      "|           Register|\n",
      "|               Help|\n",
      "|              Error|\n",
      "+-------------------+\n",
      "\n"
     ]
    },
    {
     "data": {
      "text/plain": [
       "226"
      ]
     },
     "execution_count": 12,
     "metadata": {},
     "output_type": "execute_result"
    }
   ],
   "source": [
    "df.where(df.userId == \"\").show(5)\n",
    "df.where(df.userId == \"\").select(\"page\").distinct().show()\n",
    "df.select(\"userID\").distinct().count()"
   ]
  },
  {
   "cell_type": "code",
   "execution_count": 13,
   "metadata": {},
   "outputs": [
    {
     "data": {
      "text/plain": [
       "278154"
      ]
     },
     "execution_count": 13,
     "metadata": {},
     "output_type": "execute_result"
    }
   ],
   "source": [
    "# Removing anonymous users \n",
    "df = df.filter(df[\"userId\"] != \"\")\n",
    "df.count()"
   ]
  },
  {
   "cell_type": "markdown",
   "metadata": {},
   "source": [
    "# Exploratory Data Analysis\n",
    "When you're working with the full dataset, perform EDA by loading a small subset of the data and doing basic manipulations within Spark. In this workspace, you are already provided a small subset of data you can explore.\n",
    "\n",
    "### Define Churn\n",
    "\n",
    "Once you've done some preliminary analysis, create a column `Churn` to use as the label for your model. I suggest using the `Cancellation Confirmation` events to define your churn, which happen for both paid and free users. As a bonus task, you can also look into the `Downgrade` events.\n",
    "\n",
    "### Explore Data\n",
    "Once you've defined churn, perform some exploratory data analysis to observe the behavior for users who stayed vs users who churned. You can start by exploring aggregates on these two groups of users, observing how much of a specific action they experienced per a certain time unit or number of songs played."
   ]
  },
  {
   "cell_type": "code",
   "execution_count": 14,
   "metadata": {},
   "outputs": [
    {
     "name": "stdout",
     "output_type": "stream",
     "text": [
      "+---------+\n",
      "|     auth|\n",
      "+---------+\n",
      "|Cancelled|\n",
      "|Logged In|\n",
      "+---------+\n",
      "\n"
     ]
    }
   ],
   "source": [
    "#  different types of authorisation\n",
    "df.select(\"auth\").distinct().show()"
   ]
  },
  {
   "cell_type": "code",
   "execution_count": 15,
   "metadata": {},
   "outputs": [
    {
     "name": "stdout",
     "output_type": "stream",
     "text": [
      "+-----+\n",
      "|level|\n",
      "+-----+\n",
      "| free|\n",
      "| paid|\n",
      "+-----+\n",
      "\n"
     ]
    }
   ],
   "source": [
    "# different types of levels\n",
    "df.select(\"level\").distinct().show()"
   ]
  },
  {
   "cell_type": "code",
   "execution_count": 16,
   "metadata": {},
   "outputs": [
    {
     "name": "stdout",
     "output_type": "stream",
     "text": [
      "+----------------------+\n",
      "|count(DISTINCT userId)|\n",
      "+----------------------+\n",
      "|                   225|\n",
      "+----------------------+\n",
      "\n"
     ]
    }
   ],
   "source": [
    "# number of unique users\n",
    "df.agg(f.countDistinct('userId')).show()"
   ]
  },
  {
   "cell_type": "code",
   "execution_count": 17,
   "metadata": {},
   "outputs": [
    {
     "data": {
      "text/plain": [
       "['18',\n",
       " '32',\n",
       " '125',\n",
       " '105',\n",
       " '17',\n",
       " '143',\n",
       " '101',\n",
       " '129',\n",
       " '121',\n",
       " '51',\n",
       " '87',\n",
       " '122',\n",
       " '12',\n",
       " '58',\n",
       " '73',\n",
       " '3',\n",
       " '106',\n",
       " '103',\n",
       " '28',\n",
       " '54',\n",
       " '29',\n",
       " '70',\n",
       " '53',\n",
       " '100011',\n",
       " '100001',\n",
       " '100024',\n",
       " '100006',\n",
       " '100019',\n",
       " '100003',\n",
       " '100023',\n",
       " '100005',\n",
       " '100017',\n",
       " '100025',\n",
       " '100009',\n",
       " '100012',\n",
       " '100013',\n",
       " '100022',\n",
       " '100014',\n",
       " '100015',\n",
       " '100021',\n",
       " '100007',\n",
       " '200001',\n",
       " '200024',\n",
       " '200011',\n",
       " '200021',\n",
       " '200018',\n",
       " '200015',\n",
       " '200017',\n",
       " '200016',\n",
       " '200020',\n",
       " '300007',\n",
       " '300001']"
      ]
     },
     "execution_count": 17,
     "metadata": {},
     "output_type": "execute_result"
    }
   ],
   "source": [
    "# Identifying churn users\n",
    "churned_users = df.select([\"userId\"]).filter(df.page == \"Cancellation Confirmation\")\n",
    "churned_users = churned_users.toPandas()\n",
    "churned_users = churned_users.userId.tolist()\n",
    "churned_users"
   ]
  },
  {
   "cell_type": "code",
   "execution_count": 18,
   "metadata": {},
   "outputs": [],
   "source": [
    "churn = f.udf(lambda x :1 if x =='Cancellation Confirmation' else 0, IntegerType())\n",
    "df = df.withColumn('churn', churn(\"page\"))"
   ]
  },
  {
   "cell_type": "code",
   "execution_count": 19,
   "metadata": {},
   "outputs": [
    {
     "name": "stdout",
     "output_type": "stream",
     "text": [
      "+--------------------+---------+---------+------+-------------+--------+---------+-----+--------------------+------+---------------+-------------+---------+--------------------+------+-------------+--------------------+------+-----+\n",
      "|              artist|     auth|firstName|gender|itemInSession|lastName|   length|level|            location|method|           page| registration|sessionId|                song|status|           ts|           userAgent|userId|churn|\n",
      "+--------------------+---------+---------+------+-------------+--------+---------+-----+--------------------+------+---------------+-------------+---------+--------------------+------+-------------+--------------------+------+-----+\n",
      "|      Martha Tilston|Logged In|    Colin|     M|           50| Freeman|277.89016| paid|     Bakersfield, CA|   PUT|       NextSong|1538173362000|       29|           Rockpools|   200|1538352117000|Mozilla/5.0 (Wind...|    30|    0|\n",
      "|    Five Iron Frenzy|Logged In|    Micah|     M|           79|    Long|236.09424| free|Boston-Cambridge-...|   PUT|       NextSong|1538331630000|        8|              Canada|   200|1538352180000|\"Mozilla/5.0 (Win...|     9|    0|\n",
      "|        Adam Lambert|Logged In|    Colin|     M|           51| Freeman| 282.8273| paid|     Bakersfield, CA|   PUT|       NextSong|1538173362000|       29|   Time For Miracles|   200|1538352394000|Mozilla/5.0 (Wind...|    30|    0|\n",
      "|              Enigma|Logged In|    Micah|     M|           80|    Long|262.71302| free|Boston-Cambridge-...|   PUT|       NextSong|1538331630000|        8|Knocking On Forbi...|   200|1538352416000|\"Mozilla/5.0 (Win...|     9|    0|\n",
      "|           Daft Punk|Logged In|    Colin|     M|           52| Freeman|223.60771| paid|     Bakersfield, CA|   PUT|       NextSong|1538173362000|       29|Harder Better Fas...|   200|1538352676000|Mozilla/5.0 (Wind...|    30|    0|\n",
      "|The All-American ...|Logged In|    Micah|     M|           81|    Long|208.29995| free|Boston-Cambridge-...|   PUT|       NextSong|1538331630000|        8|      Don't Leave Me|   200|1538352678000|\"Mozilla/5.0 (Win...|     9|    0|\n",
      "|The Velvet Underg...|Logged In|    Micah|     M|           82|    Long|260.46649| free|Boston-Cambridge-...|   PUT|       NextSong|1538331630000|        8|         Run Run Run|   200|1538352886000|\"Mozilla/5.0 (Win...|     9|    0|\n",
      "|        Starflyer 59|Logged In|    Colin|     M|           53| Freeman|185.44281| paid|     Bakersfield, CA|   PUT|       NextSong|1538173362000|       29|Passengers (Old A...|   200|1538352899000|Mozilla/5.0 (Wind...|    30|    0|\n",
      "|                null|Logged In|    Colin|     M|           54| Freeman|     null| paid|     Bakersfield, CA|   PUT|Add to Playlist|1538173362000|       29|                null|   200|1538352905000|Mozilla/5.0 (Wind...|    30|    0|\n",
      "|            Frumpies|Logged In|    Colin|     M|           55| Freeman|134.47791| paid|     Bakersfield, CA|   PUT|       NextSong|1538173362000|       29|          Fuck Kitty|   200|1538353084000|Mozilla/5.0 (Wind...|    30|    0|\n",
      "+--------------------+---------+---------+------+-------------+--------+---------+-----+--------------------+------+---------------+-------------+---------+--------------------+------+-------------+--------------------+------+-----+\n",
      "only showing top 10 rows\n",
      "\n"
     ]
    }
   ],
   "source": [
    "df.show(10)"
   ]
  },
  {
   "cell_type": "code",
   "execution_count": 20,
   "metadata": {},
   "outputs": [
    {
     "name": "stdout",
     "output_type": "stream",
     "text": [
      "+-----+-------------+\n",
      "|churn|count(userId)|\n",
      "+-----+-------------+\n",
      "|    1|           52|\n",
      "|    0|       278102|\n",
      "+-----+-------------+\n",
      "\n",
      "+-----+------+-------------+\n",
      "|churn|gender|count(userId)|\n",
      "+-----+------+-------------+\n",
      "|    1|     F|           20|\n",
      "|    0|     M|       123544|\n",
      "|    1|     M|           32|\n",
      "|    0|     F|       154558|\n",
      "+-----+------+-------------+\n",
      "\n"
     ]
    }
   ],
   "source": [
    "df.groupBy('churn').agg(f.count('userId')).show()\n",
    "df.groupBy(['churn', 'gender']).agg(f.count('userId')).show()"
   ]
  },
  {
   "cell_type": "markdown",
   "metadata": {},
   "source": [
    "# Feature Engineering\n",
    "Once you've familiarized yourself with the data, build out the features you find promising to train your model on. To work with the full dataset, you can follow the following steps.\n",
    "- Write a script to extract the necessary features from the smaller subset of data\n",
    "- Ensure that your script is scalable, using the best practices discussed in Lesson 3\n",
    "- Try your script on the full data set, debugging your script if necessary\n",
    "\n",
    "If you are working in the classroom workspace, you can just extract features based on the small subset of data contained here. Be sure to transfer over this work to the larger dataset when you work on your Spark cluster."
   ]
  },
  {
   "cell_type": "code",
   "execution_count": 21,
   "metadata": {},
   "outputs": [
    {
     "name": "stdout",
     "output_type": "stream",
     "text": [
      "+------+--------------+\n",
      "|userId|days_since_reg|\n",
      "+------+--------------+\n",
      "|100010|       12587.0|\n",
      "|200002|       23514.0|\n",
      "|   125|         781.0|\n",
      "|    51|       26450.0|\n",
      "|   124|      477451.0|\n",
      "|     7|        9208.0|\n",
      "|    54|      303053.0|\n",
      "|    15|       57096.0|\n",
      "|   155|       12167.0|\n",
      "|   132|      115510.0|\n",
      "|   154|        1168.0|\n",
      "|100014|       17884.0|\n",
      "|   101|       99228.0|\n",
      "|    11|       86704.0|\n",
      "|   138|      106760.0|\n",
      "|300017|      180125.0|\n",
      "|    29|      131534.0|\n",
      "|    69|       60971.0|\n",
      "|100021|       15463.0|\n",
      "|    42|      158175.0|\n",
      "+------+--------------+\n",
      "only showing top 20 rows\n",
      "\n"
     ]
    }
   ],
   "source": [
    "# Rounded number of days from registration\n",
    "def days_since_reg(x, y):\n",
    "    \"\"\"\n",
    "    number of days since registration\n",
    "    \"\"\"\n",
    "    sec_diff = f.when(x > y, x - y).otherwise(0)    \n",
    "    return f.round(sec_diff / (24*60*60*1000))\n",
    "\n",
    "user_days = df.withColumn(\n",
    "    'days_since_reg', days_since_reg(df.ts, df.registration)\n",
    ")\n",
    "user_days = user_days.select(\"userId\",\"days_since_reg\")\\\n",
    "            .groupby(\"userId\").agg(f.sum(user_days.days_since_reg).alias(\"days_since_reg\"))\n",
    "user_days.show()"
   ]
  },
  {
   "cell_type": "code",
   "execution_count": 22,
   "metadata": {},
   "outputs": [
    {
     "name": "stdout",
     "output_type": "stream",
     "text": [
      "+------+--------+\n",
      "|userId|numSongs|\n",
      "+------+--------+\n",
      "|100010|     275|\n",
      "|200002|     387|\n",
      "|   125|       8|\n",
      "|    51|    2111|\n",
      "|   124|    4079|\n",
      "|     7|     150|\n",
      "|    54|    2841|\n",
      "|    15|    1914|\n",
      "|   155|     820|\n",
      "|   132|    1928|\n",
      "|   154|      84|\n",
      "|100014|     257|\n",
      "|   101|    1797|\n",
      "|    11|     647|\n",
      "|   138|    2070|\n",
      "|300017|    3632|\n",
      "|    29|    3028|\n",
      "|    69|    1125|\n",
      "|100021|     230|\n",
      "|    42|    3573|\n",
      "+------+--------+\n",
      "only showing top 20 rows\n",
      "\n"
     ]
    }
   ],
   "source": [
    "# Numer of songs played \n",
    "numSongs = df.select(\"userId\",\"song\").groupby(\"userId\")\\\n",
    "          .agg(f.count(df.song).alias(\"numSongs\"))\n",
    "numSongs.show()"
   ]
  },
  {
   "cell_type": "code",
   "execution_count": 23,
   "metadata": {},
   "outputs": [
    {
     "name": "stdout",
     "output_type": "stream",
     "text": [
      "+------+------------------+\n",
      "|userID|    avg_sess_songs|\n",
      "+------+------------------+\n",
      "|100010|39.285714285714285|\n",
      "|200002|              64.5|\n",
      "|   125|               8.0|\n",
      "|    51|             211.1|\n",
      "|   124|145.67857142857142|\n",
      "|     7|21.428571428571427|\n",
      "|    54| 81.17142857142858|\n",
      "|    15|136.71428571428572|\n",
      "|   155|136.66666666666666|\n",
      "|100014|42.833333333333336|\n",
      "|   132|             120.5|\n",
      "|   154|              28.0|\n",
      "|   101|             179.7|\n",
      "|    11|           40.4375|\n",
      "|300017|59.540983606557376|\n",
      "|   138|             138.0|\n",
      "|    29| 89.05882352941177|\n",
      "|    69|             125.0|\n",
      "|100021|              46.0|\n",
      "|    42| 87.14634146341463|\n",
      "+------+------------------+\n",
      "only showing top 20 rows\n",
      "\n"
     ]
    }
   ],
   "source": [
    "# Average Number of Songs per session\n",
    "avg_songs_session = df.where((df.page == 'NextSong')).groupBy('userID', 'sessionId') \\\n",
    "                    .agg(f.count(df.song).alias(\"num_songs\"))\n",
    "avg_songs_session = avg_songs_session.groupBy('userID').agg(f.avg(avg_songs_session.num_songs).alias(\"avg_sess_songs\"))\n",
    "\n",
    "avg_songs_session.show()"
   ]
  },
  {
   "cell_type": "code",
   "execution_count": 24,
   "metadata": {},
   "outputs": [
    {
     "name": "stdout",
     "output_type": "stream",
     "text": [
      "+------+------------------+\n",
      "|userId|     totalPlayTime|\n",
      "+------+------------------+\n",
      "|100010| 66940.89735000003|\n",
      "|200002| 94008.87593999993|\n",
      "|   125|2089.1131000000005|\n",
      "|    51| 523275.8428000004|\n",
      "|   124|1012312.0927899999|\n",
      "|     7| 38034.08710000002|\n",
      "|    54| 711344.9195400011|\n",
      "|    15|477307.60581000015|\n",
      "|   155|       198779.2919|\n",
      "|   132| 483118.9038399997|\n",
      "|   154|20660.023910000007|\n",
      "|100014| 67703.47208000004|\n",
      "|   101| 447464.0146699989|\n",
      "|    11|159669.96303999983|\n",
      "|   138| 512449.8827599989|\n",
      "|300017| 897406.9802100015|\n",
      "|    29| 754517.5625700009|\n",
      "|    69| 286064.0256399999|\n",
      "|100021| 57633.17563999999|\n",
      "|    42| 881792.9661300007|\n",
      "+------+------------------+\n",
      "only showing top 20 rows\n",
      "\n"
     ]
    }
   ],
   "source": [
    "# Total play time as per user\n",
    "totalPlayTime = df.where(df[\"page\"] == \"NextSong\").select(\"userId\",\"length\")\\\n",
    "                        .groupby(\"userId\").agg(f.sum(df.length).alias(\"totalPlayTime\"))\n",
    "totalPlayTime.show()"
   ]
  },
  {
   "cell_type": "code",
   "execution_count": 25,
   "metadata": {},
   "outputs": [
    {
     "name": "stdout",
     "output_type": "stream",
     "text": [
      "+------+------------------+\n",
      "|userId|         avgClicks|\n",
      "+------+------------------+\n",
      "|200002|33.857142857142854|\n",
      "|100010| 34.63636363636363|\n",
      "|   125|              2.75|\n",
      "|    51|164.26666666666668|\n",
      "|   124|344.64285714285717|\n",
      "|     7|15.461538461538462|\n",
      "|    54|180.89473684210526|\n",
      "|    15|162.71428571428572|\n",
      "|   155|              66.8|\n",
      "|   132|             144.0|\n",
      "|100014|23.846153846153847|\n",
      "|   154|             14.75|\n",
      "|    11| 49.88235294117647|\n",
      "|   101|119.38888888888889|\n",
      "|   138|          154.3125|\n",
      "|300017| 316.2857142857143|\n",
      "|    29|211.94117647058823|\n",
      "|100021| 24.53846153846154|\n",
      "|    69|            83.875|\n",
      "|    42|          266.0625|\n",
      "+------+------------------+\n",
      "only showing top 20 rows\n",
      "\n"
     ]
    }
   ],
   "source": [
    "# Average number of clicks per user\n",
    "num_clicks = df.groupBy(['userId', 'page']).agg(f.count(df.page).alias('clicks'))\n",
    "avgClicks = num_clicks.groupBy('userId').agg(f.avg(num_clicks.clicks).alias('avgClicks'))\n",
    "avgClicks.show()"
   ]
  },
  {
   "cell_type": "code",
   "execution_count": 26,
   "metadata": {},
   "outputs": [
    {
     "name": "stdout",
     "output_type": "stream",
     "text": [
      "+------+-----+\n",
      "|userId|churn|\n",
      "+------+-----+\n",
      "|    73|    0|\n",
      "|    19|    0|\n",
      "|100005|    1|\n",
      "|200007|    0|\n",
      "|300007|    1|\n",
      "+------+-----+\n",
      "only showing top 5 rows\n",
      "\n",
      "+------+-----------+\n",
      "|userId|gender_male|\n",
      "+------+-----------+\n",
      "|100010|          0|\n",
      "|200002|          1|\n",
      "|   125|          1|\n",
      "|    51|          1|\n",
      "|   124|          0|\n",
      "+------+-----------+\n",
      "only showing top 5 rows\n",
      "\n",
      "+------+----------+\n",
      "|userId|paid_level|\n",
      "+------+----------+\n",
      "|100010|         0|\n",
      "|200002|         0|\n",
      "|   125|         0|\n",
      "|    51|         1|\n",
      "|   124|         1|\n",
      "+------+----------+\n",
      "only showing top 5 rows\n",
      "\n"
     ]
    }
   ],
   "source": [
    "# UserId and churn label\n",
    "user_churn = df.select(\"userId\",\"churn\").dropDuplicates()\n",
    "\n",
    "# Convert gender to binary \n",
    "user_male = df.select(\"userId\",\"gender\").withColumn('gender_male', f.when(df.gender == 'M', 1).otherwise(0))\n",
    "user_male = user_male.groupBy(\"userId\").agg(f.first('gender_male').alias(\"gender_male\"))\n",
    "\n",
    "# Convert subscription to binary \n",
    "user_paid = df.select(\"userId\",\"level\").withColumn('paid_level', f.when(df.level == 'paid', 1).otherwise(0))\n",
    "user_paid = user_paid.groupBy(\"userId\").agg(f.first('paid_level').alias(\"paid_level\"))\n",
    "\n",
    "user_churn.show(5)\n",
    "user_male.show(5)\n",
    "user_paid.show(5)"
   ]
  },
  {
   "cell_type": "code",
   "execution_count": 27,
   "metadata": {},
   "outputs": [
    {
     "name": "stdout",
     "output_type": "stream",
     "text": [
      "+--------------+--------+------------------+------------------+------------------+-----+-----------+----------+\n",
      "|days_since_reg|numSongs|    avg_sess_songs|     totalPlayTime|         avgClicks|churn|gender_male|paid_level|\n",
      "+--------------+--------+------------------+------------------+------------------+-----+-----------+----------+\n",
      "|       12587.0|     275|39.285714285714285| 66940.89735000003| 34.63636363636363|    0|          0|         0|\n",
      "|       23514.0|     387|              64.5| 94008.87593999993|33.857142857142854|    0|          1|         0|\n",
      "|         781.0|       8|               8.0|2089.1131000000005|              2.75|    1|          1|         0|\n",
      "|         781.0|       8|               8.0|2089.1131000000005|              2.75|    0|          1|         0|\n",
      "|      477451.0|    4079|145.67857142857142|1012312.0927899999|344.64285714285717|    0|          0|         1|\n",
      "|       26450.0|    2111|             211.1| 523275.8428000004|164.26666666666668|    1|          1|         1|\n",
      "|       26450.0|    2111|             211.1| 523275.8428000004|164.26666666666668|    0|          1|         1|\n",
      "|        9208.0|     150|21.428571428571427| 38034.08710000002|15.461538461538462|    0|          1|         0|\n",
      "|       57096.0|    1914|136.71428571428572|477307.60581000015|162.71428571428572|    0|          1|         1|\n",
      "|      303053.0|    2841| 81.17142857142858| 711344.9195400011|180.89473684210526|    0|          0|         1|\n",
      "|      303053.0|    2841| 81.17142857142858| 711344.9195400011|180.89473684210526|    1|          0|         1|\n",
      "|       12167.0|     820|136.66666666666666|       198779.2919|              66.8|    0|          0|         0|\n",
      "|       17884.0|     257|42.833333333333336| 67703.47208000004|23.846153846153847|    1|          1|         1|\n",
      "|       17884.0|     257|42.833333333333336| 67703.47208000004|23.846153846153847|    0|          1|         1|\n",
      "|      115510.0|    1928|             120.5| 483118.9038399997|             144.0|    0|          0|         0|\n",
      "|        1168.0|      84|              28.0|20660.023910000007|             14.75|    0|          0|         0|\n",
      "|       99228.0|    1797|             179.7| 447464.0146699989|119.38888888888889|    1|          1|         0|\n",
      "|       99228.0|    1797|             179.7| 447464.0146699989|119.38888888888889|    0|          1|         0|\n",
      "|       86704.0|     647|           40.4375|159669.96303999983| 49.88235294117647|    0|          0|         0|\n",
      "|      106760.0|    2070|             138.0| 512449.8827599989|          154.3125|    0|          1|         0|\n",
      "+--------------+--------+------------------+------------------+------------------+-----+-----------+----------+\n",
      "only showing top 20 rows\n",
      "\n"
     ]
    }
   ],
   "source": [
    "# joining all features\n",
    "total_features_df = user_days.join(numSongs, \"userId\",\"outer\" )\\\n",
    "                    .join(avg_songs_session, \"userId\",\"outer\")\\\n",
    "                    .join(totalPlayTime, \"userId\",\"outer\")\\\n",
    "                    .join(avgClicks, \"userId\",\"outer\")\\\n",
    "                    .join(user_churn, \"userId\",\"outer\")\\\n",
    "                    .join(user_male, \"userId\",\"outer\")\\\n",
    "                    .join(user_paid, \"userId\",\"outer\").drop(\"userId\").fillna(0)\n",
    "total_features_df.show()"
   ]
  },
  {
   "cell_type": "code",
   "execution_count": 28,
   "metadata": {},
   "outputs": [],
   "source": [
    "file = \"total_features_df.csv\"\n",
    "total_features_df.write.save(file, format=\"csv\", header=True, mode='overwrite')"
   ]
  },
  {
   "cell_type": "markdown",
   "metadata": {},
   "source": [
    "# Modeling\n",
    "Split the full dataset into train, test, and validation sets. Test out several of the machine learning methods you learned. Evaluate the accuracy of the various models, tuning parameters as necessary. Determine your winning model based on test accuracy and report results on the validation set. Since the churned users are a fairly small subset, I suggest using F1 score as the metric to optimize."
   ]
  },
  {
   "cell_type": "code",
   "execution_count": 29,
   "metadata": {},
   "outputs": [
    {
     "data": {
      "text/plain": [
       "DataFrame[days_since_reg: string, numSongs: string, avg_sess_songs: string, totalPlayTime: string, avgClicks: string, churn: string, gender_male: string, paid_level: string]"
      ]
     },
     "execution_count": 29,
     "metadata": {},
     "output_type": "execute_result"
    }
   ],
   "source": [
    "total_features_df = spark.read.csv(\"total_features_df.csv\", header=True)\n",
    "total_features_df.persist()"
   ]
  },
  {
   "cell_type": "code",
   "execution_count": 30,
   "metadata": {},
   "outputs": [
    {
     "name": "stdout",
     "output_type": "stream",
     "text": [
      "root\n",
      " |-- days_since_reg: string (nullable = true)\n",
      " |-- numSongs: string (nullable = true)\n",
      " |-- avg_sess_songs: string (nullable = true)\n",
      " |-- totalPlayTime: string (nullable = true)\n",
      " |-- avgClicks: string (nullable = true)\n",
      " |-- churn: string (nullable = true)\n",
      " |-- gender_male: string (nullable = true)\n",
      " |-- paid_level: string (nullable = true)\n",
      "\n"
     ]
    }
   ],
   "source": [
    "# reading csv convert all columns to string\n",
    "total_features_df.printSchema()"
   ]
  },
  {
   "cell_type": "code",
   "execution_count": 31,
   "metadata": {},
   "outputs": [
    {
     "name": "stdout",
     "output_type": "stream",
     "text": [
      "root\n",
      " |-- days_since_reg: float (nullable = true)\n",
      " |-- numSongs: float (nullable = true)\n",
      " |-- avg_sess_songs: float (nullable = true)\n",
      " |-- totalPlayTime: float (nullable = true)\n",
      " |-- avgClicks: float (nullable = true)\n",
      " |-- churn: float (nullable = true)\n",
      " |-- gender_male: float (nullable = true)\n",
      " |-- paid_level: float (nullable = true)\n",
      "\n"
     ]
    }
   ],
   "source": [
    "# converting each columns to float\n",
    "total_features_df = total_features_df.select(*(f.col(c).cast(\"float\").alias(c) for c in total_features_df.columns))\n",
    "total_features_df.printSchema()"
   ]
  },
  {
   "cell_type": "code",
   "execution_count": 32,
   "metadata": {},
   "outputs": [],
   "source": [
    "# total_features_df = total_features_df.drop(\"userId\")\n",
    "feature_cols = total_features_df.columns\n",
    "feature_cols.remove('churn')\n",
    "\n",
    "assembler = VectorAssembler().setInputCols(feature_cols).setOutputCol(\"features\")\n",
    "total_features_df = assembler.transform(total_features_df)\n",
    "\n",
    "train_df, test_df = total_features_df.randomSplit([0.7, 0.3], seed=31)"
   ]
  },
  {
   "cell_type": "code",
   "execution_count": 33,
   "metadata": {},
   "outputs": [],
   "source": [
    "def model_eval(model_type, model, test_data, train_data):\n",
    "\n",
    "    evaluator = MulticlassClassificationEvaluator(predictionCol=\"prediction\", labelCol=\"churn\", metricName=\"f1\")\n",
    "    evaluator.setMetricName(\"f1\")\n",
    "    \n",
    "    train_predictions = model.transform(train_data)\n",
    "    test_predictions = model.transform(test_data)\n",
    "    results = {}\n",
    "    results[\"model\"] = model_type\n",
    "    results[\"f1_train\"] = round(evaluator.evaluate(train_predictions, {evaluator.metricName:\"f1\"}),6)\n",
    "    results[\"f1_test\"] = round(evaluator.evaluate(test_predictions, {evaluator.metricName:\"f1\"}),6)\n",
    "    results[\"precision_train\"] = round(evaluator.evaluate(train_predictions, {evaluator.metricName:\"weightedPrecision\"}),6)\n",
    "    results[\"precision_test\"] = round(evaluator.evaluate(test_predictions, {evaluator.metricName:\"weightedPrecision\"}),6)\n",
    "    results[\"recall_train\"] = round(evaluator.evaluate(train_predictions, {evaluator.metricName:\"weightedRecall\"}),6)\n",
    "    results[\"recall_test\"] = round(evaluator.evaluate(test_predictions, {evaluator.metricName:\"weightedRecall\"}),6)\n",
    "    results[\"accuracy_train\"] = round(evaluator.evaluate(train_predictions, {evaluator.metricName:\"accuracy\"}),6)\n",
    "    results[\"accuracy_test\"] = round(evaluator.evaluate(test_predictions, {evaluator.metricName:\"accuracy\"}),6)\n",
    "\n",
    "    return results"
   ]
  },
  {
   "cell_type": "code",
   "execution_count": 34,
   "metadata": {},
   "outputs": [],
   "source": [
    "def model_train(model_type, train, test):\n",
    "    \n",
    "    stages = []\n",
    "    scaler = StandardScaler(inputCol=\"features\", outputCol=\"scaledColumns\")\n",
    "    stages.append(scaler)\n",
    " \n",
    "    evaltr = MulticlassClassificationEvaluator(predictionCol=\"prediction\", labelCol=\"churn\", metricName=\"f1\")\n",
    "\n",
    "    if model_type == \"LogisticRegression\":\n",
    "        classifier = LogisticRegression(featuresCol = \"features\", labelCol = \"churn\")\n",
    "        \n",
    "        param_grid = ParamGridBuilder().addGrid(classifier.maxIter, [50, 100, 150, 200]) \\\n",
    "                                       .addGrid(classifier.threshold, [0.4, 0.5, 0.6, 0.7]).build()\n",
    "        \n",
    "    elif model_type == \"RandomForest\":\n",
    "        classifier = RandomForestClassifier(featuresCol = \"features\", labelCol = \"churn\",\n",
    "                                            featureSubsetStrategy=\"auto\", impurity='gini')\n",
    "\n",
    "        param_grid = ParamGridBuilder().addGrid(classifier.numTrees, [3, 4, 5, 6, 7]) \\\n",
    "                                       .addGrid(classifier.maxDepth, [5, 10, 15, 20]).build()\n",
    "    \n",
    "    elif model_type == \"GradientBoostedTree\":\n",
    "        classifier = GBTClassifier(featuresCol = \"features\", labelCol = \"churn\")\n",
    "\n",
    "        param_grid = ParamGridBuilder().addGrid(classifier.maxIter, [10, 20, 30, 40]) \\\n",
    "                                       .addGrid(classifier.maxDepth, [5, 10, 20, 30]).build()\n",
    " \n",
    "    cv = CrossValidator(estimator = classifier,estimatorParamMaps = param_grid,\n",
    "                        evaluator = evaltr,numFolds=50)\n",
    "\n",
    "    stages.append(classifier)    \n",
    "    pipeline = Pipeline(stages=stages)\n",
    "    model = pipeline.fit(train)\n",
    "    \n",
    "    return model_eval(model_type, model, test, train)"
   ]
  },
  {
   "cell_type": "code",
   "execution_count": 35,
   "metadata": {},
   "outputs": [
    {
     "data": {
      "text/plain": [
       "{'model': 'LogisticRegression',\n",
       " 'f1_train': 0.768818,\n",
       " 'f1_test': 0.709235,\n",
       " 'precision_train': 0.753084,\n",
       " 'precision_test': 0.753785,\n",
       " 'recall_train': 0.81592,\n",
       " 'recall_test': 0.776316,\n",
       " 'accuracy_train': 0.81592,\n",
       " 'accuracy_test': 0.776316}"
      ]
     },
     "execution_count": 35,
     "metadata": {},
     "output_type": "execute_result"
    }
   ],
   "source": [
    "lr_results = model_train('LogisticRegression', train_df, test_df)\n",
    "lr_results"
   ]
  },
  {
   "cell_type": "code",
   "execution_count": 36,
   "metadata": {},
   "outputs": [
    {
     "data": {
      "text/plain": [
       "{'model': 'RandomForest',\n",
       " 'f1_train': 0.765804,\n",
       " 'f1_test': 0.654135,\n",
       " 'precision_train': 0.86291,\n",
       " 'precision_test': 0.58,\n",
       " 'recall_train': 0.835821,\n",
       " 'recall_test': 0.75,\n",
       " 'accuracy_train': 0.835821,\n",
       " 'accuracy_test': 0.75}"
      ]
     },
     "execution_count": 36,
     "metadata": {},
     "output_type": "execute_result"
    }
   ],
   "source": [
    "rf_results = model_train('RandomForest', train_df, test_df)\n",
    "rf_results"
   ]
  },
  {
   "cell_type": "code",
   "execution_count": 37,
   "metadata": {},
   "outputs": [
    {
     "data": {
      "text/plain": [
       "{'model': 'GradientBoostedTree',\n",
       " 'f1_train': 0.866467,\n",
       " 'f1_test': 0.559649,\n",
       " 'precision_train': 0.883641,\n",
       " 'precision_test': 0.541596,\n",
       " 'recall_train': 0.885572,\n",
       " 'recall_test': 0.578947,\n",
       " 'accuracy_train': 0.885572,\n",
       " 'accuracy_test': 0.578947}"
      ]
     },
     "execution_count": 37,
     "metadata": {},
     "output_type": "execute_result"
    }
   ],
   "source": [
    "gb_results = model_train('GradientBoostedTree', train_df, test_df)\n",
    "gb_results"
   ]
  },
  {
   "cell_type": "code",
   "execution_count": 38,
   "metadata": {},
   "outputs": [
    {
     "name": "stdout",
     "output_type": "stream",
     "text": [
      "+-------------------+--------+--------+---------------+--------------+------------+-----------+--------------+-------------+\n",
      "|              model|f1_train| f1_test|precision_train|precision_test|recall_train|recall_test|accuracy_train|accuracy_test|\n",
      "+-------------------+--------+--------+---------------+--------------+------------+-----------+--------------+-------------+\n",
      "| LogisticRegression|0.768818|0.709235|       0.753084|      0.753785|     0.81592|   0.776316|       0.81592|     0.776316|\n",
      "|       RandomForest|0.765804|0.654135|        0.86291|          0.58|    0.835821|       0.75|      0.835821|         0.75|\n",
      "|GradientBoostedTree|0.866467|0.559649|       0.883641|      0.541596|    0.885572|   0.578947|      0.885572|     0.578947|\n",
      "+-------------------+--------+--------+---------------+--------------+------------+-----------+--------------+-------------+\n",
      "\n"
     ]
    }
   ],
   "source": [
    "spark.read.json(spark.sparkContext.parallelize([lr_results, rf_results, gb_results])) \\\n",
    "    .select(\"model\",\"f1_train\",\"f1_test\",\"precision_train\",\"precision_test\",\n",
    "            \"recall_train\",\"recall_test\",\"accuracy_train\",\"accuracy_test\").show()"
   ]
  },
  {
   "cell_type": "code",
   "execution_count": 39,
   "metadata": {},
   "outputs": [],
   "source": [
    "results_df = pd.DataFrame({'score': [lr_results['f1_train'], rf_results['f1_train'], gb_results['f1_train'],\n",
    "                                     lr_results['f1_test'], rf_results['f1_test'], gb_results['f1_test']],\n",
    "                           'dataset': ['Train', 'Train', 'Train', 'Test', 'Test', 'Test'],\n",
    "                           'model': ['LogisticRegression', 'RandomForest', 'GradientBoosting',\n",
    "                                     'LogisticRegression', 'RandomForest', 'GradientBoosting']})"
   ]
  },
  {
   "cell_type": "code",
   "execution_count": 45,
   "metadata": {},
   "outputs": [
    {
     "data": {
      "image/png": "[encoded data removed]",
      "text/plain": [
       "<matplotlib.figure.Figure at 0x7faa2477e438>"
      ]
     },
     "metadata": {
      "needs_background": "light"
     },
     "output_type": "display_data"
    }
   ],
   "source": [
    "plt.figure(figsize=(10,7))\n",
    "sns.barplot(x='model', y='score', hue='dataset', data=results_df)\n",
    "plt.title('F1 scores')\n",
    "plt.show()"
   ]
  },
  {
   "cell_type": "markdown",
   "metadata": {},
   "source": [
    "<b>As per F1 score evaluation metric, LogisticRegression is the optimal model to predict churn because it has the highest F1 score.</b>"
   ]
  },
  {
   "cell_type": "markdown",
   "metadata": {},
   "source": [
    "# Final Steps\n",
    "Clean up your code, adding comments and renaming variables to make the code easier to read and maintain. Refer to the Spark Project Overview page and Data Scientist Capstone Project Rubric to make sure you are including all components of the capstone project and meet all expectations. Remember, this includes thorough documentation in a README file in a Github repository, as well as a web app or blog post."
   ]
  },
  {
   "cell_type": "code",
   "execution_count": null,
   "metadata": {},
   "outputs": [],
   "source": []
  }
 ],
 "metadata": {
  "kernelspec": {
   "display_name": "Python 3",
   "language": "python",
   "name": "python3"
  },
  "language_info": {
   "codemirror_mode": {
    "name": "ipython",
    "version": 3
   },
   "file_extension": ".py",
   "mimetype": "text/x-python",
   "name": "python",
   "nbconvert_exporter": "python",
   "pygments_lexer": "ipython3",
   "version": "3.6.3"
  }
 },
 "nbformat": 4,
 "nbformat_minor": 2
}
